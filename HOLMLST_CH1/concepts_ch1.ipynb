{
 "metadata": {
  "language_info": {
   "codemirror_mode": {
    "name": "ipython",
    "version": 3
   },
   "file_extension": ".py",
   "mimetype": "text/x-python",
   "name": "python",
   "nbconvert_exporter": "python",
   "pygments_lexer": "ipython3",
   "version": "3.8.0-final"
  },
  "orig_nbformat": 2,
  "kernelspec": {
   "name": "Python 3.8.0 64-bit",
   "display_name": "Python 3.8.0 64-bit",
   "metadata": {
    "interpreter": {
     "hash": "df0893f56f349688326838aaeea0de204df53a132722cbd565e54b24a8fec5f6"
    }
   }
  }
 },
 "nbformat": 4,
 "nbformat_minor": 2,
 "cells": [
  {
   "cell_type": "markdown",
   "metadata": {},
   "source": [
    "# General Concepts about Machine Learning Chapter 01"
   ]
  },
  {
   "cell_type": "markdown",
   "metadata": {},
   "source": [
    "In this chapter we have covered some of the most important concepts in Machine\n",
    "Learning. In the next chapters we will dive deeper and write more code, but before we\n",
    "do, make sure you know how to answer the following questions:\n",
    "\n",
    "## 1. How would you define Machine Learning?\n",
    "> - It is a science or art how machine can learn for data training\n",
    "\n",
    "## 2. Can you name four types of problems where it shines?\n",
    "> - Handle and manipulate lists of hand-tuned rules (mailing)\n",
    "> - Complex problems that we have no algorithmic solution\n",
    "> - Build systems that adapt to fluctuating environments (robots)\n",
    "> - Help humans learn (e.g., data mining) \n",
    "\n",
    "## 3. What is a labeled training set?\n",
    "> - it is a supervised training where labels are the desired solutions\n",
    "\n",
    "## 4. What are the two most common supervised tasks?\n",
    "> - Regression\n",
    "> - clasification\n",
    "\n",
    "## 5. Can you name four common unsupervised tasks?\n",
    "> - Clustering\n",
    "> - Visualization\n",
    "> - Dimensionality reduction\n",
    "> - Association rule learning\n",
    "\n",
    "## 6. What type of Machine Learning algorithm would you use to allow a robot to\n",
    "walk in various unknown terrains?\n",
    "> - reinforcement training\n",
    "\n",
    "## 7. What type of algorithm would you use to segment your customers into multiple\n",
    "groups?\n",
    "> - Clustering if the data is not supervising\n",
    "\n",
    "## 8. Would you frame the problem of spam detection as a supervised learning prob‐\n",
    "lem or an unsupervised learning problem?\n",
    "> - supervised learning\n",
    "\n",
    "## 9. What is an online learning system?\n",
    "> - You train the system incrementally by feeding in mini batches\n",
    "\n",
    "## 10. What is out-of-core learning?\n",
    "> -  refers to processing data that is too large to fit, an algorithm which exploits external storage in order to support large data volumes that cannot be supported by primary internal memory\n",
    "\n",
    "## 11. What type of learning algorithm relies on a similarity measure to make predic‐\n",
    "tions?\n",
    "> - instance based learning, that it simply learn of heart\n",
    "\n",
    "## 12. What is the difference between a model parameter and a learning algorithm’s\n",
    "hyperparameter?\n",
    "> - One difference is parameters are parameters in general insted a hyperparameter is a parameter of a learning algorithm (not of the model). keep constant\n",
    "\n",
    "## 13. What do model-based learning algorithms search for? What is the most common\n",
    "strategy they use to succeed? How do they make predictions?\n",
    "> - The main strategy is to build a new model from a set of examples, which one will be use to make predictions\n",
    "\n",
    "## 14. Can you name four of the main challenges in Machine Learning?\n",
    "> - Lack of data\n",
    "> - Insufficient Quantity of Training Data\n",
    "> - Nonrepresentative Training Data\n",
    "> - Irrelevant Features\n",
    "> - Excessively simple models that underfit the training data\n",
    "> - Excessively complex models that overfit the data \n",
    "\n",
    "## 15. If your model performs great on the training data but generalizes poorly to new\n",
    "instances, what is happening? Can you name three possible solutions?\n",
    "> - This could be a problems product of overfitting on the training datang data. Some solutions could be: improve the data(choose more representative datat that allows generalize better), train multiple models with various hyperparameters on the reduced training set, simplify the model, remove features or constraining the parameters\n",
    "\n",
    "## 16. What is a test set and why would you want to use it?\n",
    "> - A test set is very useful to estimate or determintate the error to new instances before the model to be deployed\n",
    "\n",
    "\n",
    "## 17. What is the purpose of a validation set?\n",
    "> - validation set allows to compare diferents kind of training set models\n",
    "\n",
    "## 18. What can go wrong if you tune hyperparameters using the test set?\n",
    "> - Your model will have issues to generalize to new examples\n",
    "\n",
    "## 19. What is repeated cross-validation and why would you prefer it to using a single validation set?\n",
    "> - cross-validation, using many small validation sets. Each model is evaluated once per validation set, after it is trained on the rest of the data. Works to training and validate too.\n",
    "\n"
   ]
  }
 ]
}